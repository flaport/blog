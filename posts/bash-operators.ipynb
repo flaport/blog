{
 "cells": [
  {
   "cell_type": "markdown",
   "metadata": {},
   "source": [
    "# Wrapping your head around the most used bash operators\n",
    "This is mostly geared towards helping bash-beginners. Having a sound understanding of what each bash operator does might help you becoming a bash-wizard ;)"
   ]
  },
  {
   "cell_type": "markdown",
   "metadata": {},
   "source": [
    "## Semicolon\n",
    "Let's start with the most simple of them all: the semicolon `;` is used to execute multiple commands in sequence. It is in fact equivalent as putting a command on a new line:"
   ]
  },
  {
   "cell_type": "code",
   "execution_count": 1,
   "metadata": {},
   "outputs": [
    {
     "name": "stdout",
     "output_type": "stream",
     "text": [
      "This will be printed\n",
      "This will also be printed\n"
     ]
    }
   ],
   "source": [
    "!echo \"This will be printed\"; echo \"This will also be printed\""
   ]
  },
  {
   "cell_type": "markdown",
   "metadata": {},
   "source": [
    "## And\n",
    "Closely Related is the and-operator `&&`. This operator will execute the second command if the first command succeeds. If something goes wrong with the first command, the second command will not be executed."
   ]
  },
  {
   "cell_type": "code",
   "execution_count": 2,
   "metadata": {},
   "outputs": [
    {
     "name": "stdout",
     "output_type": "stream",
     "text": [
      "This will be printed\n",
      "This will also be printed\n"
     ]
    }
   ],
   "source": [
    "!echo \"This will be printed\" && echo \"This will also be printed\""
   ]
  },
  {
   "cell_type": "markdown",
   "metadata": {},
   "source": [
    "In the following, the second command will not be execuded however:"
   ]
  },
  {
   "cell_type": "code",
   "execution_count": 3,
   "metadata": {},
   "outputs": [
    {
     "name": "stdout",
     "output_type": "stream",
     "text": [
      "/bin/sh: 1: echoThis message will not be printed: not found\n"
     ]
    }
   ],
   "source": [
    "!echo\"This message will not be printed\" && echo \"This will also not be printed\""
   ]
  },
  {
   "cell_type": "markdown",
   "metadata": {},
   "source": [
    "In the above command, there is an error (there's no space between the message and the echo command). Although the error message gets printed, the intended message is not printed. Because the and-operator is used, the second message is not printed."
   ]
  },
  {
   "cell_type": "markdown",
   "metadata": {},
   "source": [
    "## Or\n",
    "In the same ballpark as before is the or-operator `||`. This operator works opposite of the and-operator: If something goes wrong int he first command, the second command will be executed:"
   ]
  },
  {
   "cell_type": "code",
   "execution_count": 4,
   "metadata": {},
   "outputs": [
    {
     "name": "stdout",
     "output_type": "stream",
     "text": [
      "/bin/sh: 1: echoThis message will not be printed: not found\n",
      "This message will be printed!\n"
     ]
    }
   ],
   "source": [
    "!echo\"This message will not be printed\" || echo \"This message will be printed!\""
   ]
  },
  {
   "cell_type": "markdown",
   "metadata": {},
   "source": [
    "However, if the first command succeeds, the second command will not be executed. In this sense the bash or-operator is actually more close to an xor-operator."
   ]
  },
  {
   "cell_type": "code",
   "execution_count": 5,
   "metadata": {},
   "outputs": [
    {
     "name": "stdout",
     "output_type": "stream",
     "text": [
      "This message will be printed\n"
     ]
    }
   ],
   "source": [
    "!echo \"This message will be printed\" || echo \"This message will not be printed.\""
   ]
  },
  {
   "cell_type": "markdown",
   "metadata": {},
   "source": [
    "## Not\n",
    "The not-operator `!` is used to reverse the status of a command:"
   ]
  },
  {
   "cell_type": "code",
   "execution_count": 6,
   "metadata": {},
   "outputs": [
    {
     "name": "stdout",
     "output_type": "stream",
     "text": [
      "This message will be printed\n",
      "This message will also be printed.\n"
     ]
    }
   ],
   "source": [
    "! ! echo \"This message will be printed\" || echo \"This message will also be printed.\""
   ]
  },
  {
   "cell_type": "code",
   "execution_count": 7,
   "metadata": {},
   "outputs": [
    {
     "name": "stdout",
     "output_type": "stream",
     "text": [
      "This message will be printed\n"
     ]
    }
   ],
   "source": [
    "! ! echo \"This message will be printed\" && echo \"This message will not be printed.\""
   ]
  },
  {
   "cell_type": "markdown",
   "metadata": {},
   "source": [
    "## Background\n",
    "The background operator `&` is a totally different way to chain commands. Everything preceding this operator will be executed in the background. Any command following will be immediately executing without waiting for the output of the first commmand. Not the difference here with the semicolon, wher commands were executed in sequence, whereas here, they are executed in parallel:"
   ]
  },
  {
   "cell_type": "code",
   "execution_count": 8,
   "metadata": {},
   "outputs": [
    {
     "name": "stdout",
     "output_type": "stream",
     "text": [
      "This will also be printed\n",
      "This will be printed\n"
     ]
    }
   ],
   "source": [
    "!echo \"This will be printed\" & echo \"This will also be printed\""
   ]
  },
  {
   "cell_type": "markdown",
   "metadata": {},
   "source": [
    "Because of the parallel nature of this command, the order of execution is no longer guarenteed. This operator is also very commonly used to start a process without blocking the terminal: the following command will for example NOT block the terminal for 10 seconds:\n",
    "```bash\n",
    "!sleep 10 &\n",
    "```"
   ]
  },
  {
   "cell_type": "markdown",
   "metadata": {},
   "source": [
    "## Redirection\n",
    "The redirection operator `>` redirects the output of a command to a file:"
   ]
  },
  {
   "cell_type": "code",
   "execution_count": 9,
   "metadata": {},
   "outputs": [],
   "source": [
    "!echo \"Hello\" > test.txt"
   ]
  },
  {
   "cell_type": "markdown",
   "metadata": {},
   "source": [
    "The above created a file named `test.txt` with the content `hallo`"
   ]
  },
  {
   "cell_type": "markdown",
   "metadata": {},
   "source": [
    "The above operator, however, will only redirect output intended for `stdout`: the 'normal' output. Conversely, one can redirect error messages (going to `stderr`) with the `2>` operator. The following command"
   ]
  },
  {
   "cell_type": "code",
   "execution_count": 10,
   "metadata": {},
   "outputs": [],
   "source": [
    "!echo\"Hello\" 2> test.txt"
   ]
  },
  {
   "cell_type": "markdown",
   "metadata": {},
   "source": [
    "will for example have the following content: `/bin/sh: 1: echoHello: not found`, i.e. the complete error message resulting from using the echo command without a space between the command and the message.\n",
    "If both the error messages and the normal messages need to be redirected at the same time, one uses the `&>` operator:"
   ]
  },
  {
   "cell_type": "code",
   "execution_count": 11,
   "metadata": {},
   "outputs": [
    {
     "name": "stdout",
     "output_type": "stream",
     "text": [
      "/bin/sh: 1: echoHello: not found\n"
     ]
    }
   ],
   "source": [
    "!echo\"Hello\" &> test.txt"
   ]
  },
  {
   "cell_type": "markdown",
   "metadata": {},
   "source": [
    "This is effectively equivalent with redirecting with `>` and `2>` simultaneously:"
   ]
  },
  {
   "cell_type": "code",
   "execution_count": 12,
   "metadata": {},
   "outputs": [],
   "source": [
    "!echo\"Hello\" > test.txt 2> test.txt"
   ]
  },
  {
   "cell_type": "markdown",
   "metadata": {},
   "source": [
    "An often used redirection destination is `null`, which will just throw away any output sent to it:"
   ]
  },
  {
   "cell_type": "code",
   "execution_count": 13,
   "metadata": {},
   "outputs": [],
   "source": [
    "!echo \"hello\" > /dev/null"
   ]
  },
  {
   "cell_type": "markdown",
   "metadata": {},
   "source": [
    "Note that the previous command dit not produce any output."
   ]
  },
  {
   "cell_type": "markdown",
   "metadata": {},
   "source": [
    "Finally, it's worth mentioning that to send a message to stderr, the `>&2` redirection is often prepended to the command:"
   ]
  },
  {
   "cell_type": "code",
   "execution_count": 14,
   "metadata": {},
   "outputs": [
    {
     "name": "stdout",
     "output_type": "stream",
     "text": [
      "hello\n"
     ]
    }
   ],
   "source": [
    "!>&2 echo \"hello\""
   ]
  },
  {
   "cell_type": "markdown",
   "metadata": {},
   "source": [
    "This marks the message with `2`, the error mark. We can check that this is indeed an error message (in stead of a normal message) by redirecting all normal messages to `/dev/null`:"
   ]
  },
  {
   "cell_type": "code",
   "execution_count": 15,
   "metadata": {},
   "outputs": [
    {
     "name": "stdout",
     "output_type": "stream",
     "text": [
      "hello\n"
     ]
    }
   ],
   "source": [
    "!(>&2 echo \"hello\") > /dev/null"
   ]
  },
  {
   "cell_type": "markdown",
   "metadata": {},
   "source": [
    "The message is still visible, hence it is an error message."
   ]
  },
  {
   "cell_type": "markdown",
   "metadata": {},
   "source": [
    "## Pipe\n",
    "Arguably one of the most important operators for bash scripting: the pipe. Consider it the glue that holds bash scripting together. The pipe `|` operator transfers the output of the first command to the input of the second command.\n",
    "\n",
    "A very simple example is for example the following, where one is interested in the contents of the folder `/usr/bin`. One could use the command `ls /usr/bin` to print out all the files in this folder, however, because there are quite a few, one could pipe this output to `less`, which is a program that listens to piped input and allows to scroll through this input.\n",
    "\n",
    "\n",
    "```bash\n",
    "!ls /usr/bin | less\n",
    "```\n",
    "<pre>2to3\n",
    "2to3-2.7\n",
    "2to3-3.7\n",
    "a2ping\n",
    "a2x\n",
    "a2x.py\n",
    "a52dec\n",
    "a5toa4\n",
    "abw2html\n",
    "abw2raw\n",
    "abw2text\n",
    "acat\n",
    "acceleration_speed\n",
    "accept\n",
    "accessdb\n",
    "aclocal\n",
    "aclocal-1.16\n",
    "aconnect\n",
    "acpi\n",
    "acpid\n",
    "acpi_listen\n",
    "addftinfo\n",
    ":</pre>\n",
    "\n",
    "The above example might be a bit contrived however, a more practical approach might be to search for a specific occurance of a file in `/usr/bin`. This is often done by the `grep` command, which for the intents of this tutorial can be considered as a command to search for occurances of a string in the stream coming in through the pipe:"
   ]
  },
  {
   "cell_type": "code",
   "execution_count": 16,
   "metadata": {},
   "outputs": [
    {
     "name": "stdout",
     "output_type": "stream",
     "text": [
      "bash\n",
      "bashbug\n"
     ]
    }
   ],
   "source": [
    "!ls /usr/bin | grep bash"
   ]
  },
  {
   "cell_type": "markdown",
   "metadata": {},
   "source": [
    "Two executables were found here that contain the letter sequence 'bash'. Note that multiple pipes can also be cascaded:"
   ]
  },
  {
   "cell_type": "code",
   "execution_count": 17,
   "metadata": {},
   "outputs": [
    {
     "name": "stdout",
     "output_type": "stream",
     "text": [
      "bashbug\n"
     ]
    }
   ],
   "source": [
    "!ls /usr/bin | grep bash | grep bug"
   ]
  },
  {
   "cell_type": "markdown",
   "metadata": {},
   "source": [
    "such a chained command of pipes is often called a pipeline."
   ]
  },
  {
   "cell_type": "markdown",
   "metadata": {},
   "source": [
    "## Double dash\n",
    "The double dash operator `--` is used to signify the end of a optional parameter list. Consider for example the difference in the following to commands:"
   ]
  },
  {
   "cell_type": "code",
   "execution_count": 18,
   "metadata": {},
   "outputs": [
    {
     "name": "stdout",
     "output_type": "stream",
     "text": [
      "Usage: grep [OPTION]... PATTERNS [FILE]...\n",
      "Try 'grep --help' for more information.\n"
     ]
    }
   ],
   "source": [
    "!echo \"hey! are you all right?\\n-or is there a problem?\" | grep -o"
   ]
  },
  {
   "cell_type": "code",
   "execution_count": 19,
   "metadata": {},
   "outputs": [
    {
     "name": "stdout",
     "output_type": "stream",
     "text": [
      "-or is there a problem?\n"
     ]
    }
   ],
   "source": [
    "!echo \"hey! are you all right?\\n-or is there a problem?\" | grep -- -o"
   ]
  },
  {
   "cell_type": "markdown",
   "metadata": {},
   "source": [
    "In the first command, the `-o` is considered an option to `grep`, resulting in an error because no search query is given. In the second command `-o` is considered the search query, as the `--` operator signifies the end of the optional flags."
   ]
  },
  {
   "cell_type": "markdown",
   "metadata": {},
   "source": [
    "## Round brackets\n",
    "Round brackets are used to group multiple commands together. Consider the differences between the following commands:"
   ]
  },
  {
   "cell_type": "code",
   "execution_count": 20,
   "metadata": {},
   "outputs": [
    {
     "name": "stdout",
     "output_type": "stream",
     "text": [
      "hello\n",
      "bye\n"
     ]
    }
   ],
   "source": [
    "!echo \"hello\" || echo \"hey\" && echo \"bye\""
   ]
  },
  {
   "cell_type": "code",
   "execution_count": 21,
   "metadata": {},
   "outputs": [
    {
     "name": "stdout",
     "output_type": "stream",
     "text": [
      "hello\n",
      "bye\n"
     ]
    }
   ],
   "source": [
    "!(echo \"hello\" || echo \"hey\") && echo \"bye\""
   ]
  },
  {
   "cell_type": "code",
   "execution_count": 22,
   "metadata": {},
   "outputs": [
    {
     "name": "stdout",
     "output_type": "stream",
     "text": [
      "hello\n"
     ]
    }
   ],
   "source": [
    "!echo \"hello\" || (echo \"hey\" && echo \"bye\")"
   ]
  },
  {
   "cell_type": "markdown",
   "metadata": {},
   "source": [
    "## Square brackets\n",
    "Square brackets are used to encapsulate conditionals"
   ]
  },
  {
   "cell_type": "code",
   "execution_count": 23,
   "metadata": {},
   "outputs": [
    {
     "name": "stdout",
     "output_type": "stream",
     "text": [
      "hey\n"
     ]
    }
   ],
   "source": [
    "![ 1 = 1 ] && echo \"hey\""
   ]
  },
  {
   "cell_type": "code",
   "execution_count": 24,
   "metadata": {},
   "outputs": [],
   "source": [
    "![ 1 = 2 ] && echo \"hey\""
   ]
  },
  {
   "cell_type": "markdown",
   "metadata": {},
   "source": [
    "Note the spaces between the square brackets and inside the conditional. These are necessary because `[` is actually a bash executable (and thus not a *real* bracket) everything following the `[` executable thus acts as an *argument* to `[`. Consequently they need to be spaced properly apart with spaces. The program `[` expects the last argument to always be equal to `]` to `]`, giving the impression that that the `[ ... ]` sequence look like braces. However, we could just as well have called `[` whatever we want:\n",
    "```bash\n",
    "!alias conditional=\"[\"\n",
    "!conditional 1 = 1 ] && echo \"hello\"\n",
    "```\n",
    "```bash\n",
    "hello\n",
    "```\n",
    "```bash\n",
    "!conditional 1 = 2 ] && echo \"hello\"\n",
    "```\n",
    "In fact, `[` is on its own an alternative for `test`, with the added requirement that it's arguments need to end with `]`. Indeed, the following statements are equivalent to the previous ones:"
   ]
  },
  {
   "cell_type": "code",
   "execution_count": 25,
   "metadata": {},
   "outputs": [
    {
     "name": "stdout",
     "output_type": "stream",
     "text": [
      "hey\n"
     ]
    }
   ],
   "source": [
    "!test 1 = 1 && echo \"hey\""
   ]
  },
  {
   "cell_type": "code",
   "execution_count": 26,
   "metadata": {},
   "outputs": [],
   "source": [
    "!test 1 = 2 && echo \"hey\""
   ]
  },
  {
   "cell_type": "markdown",
   "metadata": {},
   "source": [
    "Conditionals can be combined with the `&&` and `||` operators defined above."
   ]
  },
  {
   "cell_type": "code",
   "execution_count": 27,
   "metadata": {},
   "outputs": [],
   "source": [
    "![ 1 = 1 ] && [ 2 = 1 ] && echo \"hello\""
   ]
  },
  {
   "cell_type": "code",
   "execution_count": 28,
   "metadata": {},
   "outputs": [
    {
     "name": "stdout",
     "output_type": "stream",
     "text": [
      "hello\n"
     ]
    }
   ],
   "source": [
    "![ 1 = 1 ] || [ 2 = 1 ] && echo \"hello\""
   ]
  },
  {
   "cell_type": "markdown",
   "metadata": {},
   "source": [
    "Note that these operators are placed *outside* of the brackets, as we'd expect since we know now that `[` is just a program that sends an exit code corresponding to the conditional statement. Note that this means you get an exit code of **0** for true; __1__ for false. This is opposite of what you'd expect from more traditional programming languages. The reason for this is that programs can have *many* ways to fail (often each resulting in a different exit code), but can only have one preprogrammed way to succeed, hence the single exit code 0 for success, anything else for failure."
   ]
  },
  {
   "cell_type": "markdown",
   "metadata": {},
   "source": [
    "## Double square brackets"
   ]
  },
  {
   "cell_type": "markdown",
   "metadata": {},
   "source": [
    "In contrast to the double square brackets, a newer alternative for the single square brackets was introduced: the double square brackets `[[` and `]]`. These *newer* variants are intended for the same purpose as the single square brackets, but they are introduced as keywords, adding several parsing benefits arising from the fact that the conditional following `[[` will not be considered arguments of a bash function. This has the advantage that one does not have to be afraid of spaces inside string variables and such. The downside of using these keywords is that they are not posix-compliant: they do not work on all shell versions, only on 'newer' variants like `bash` or `zsh`.\n",
    "```bash\n",
    "![[ 1 = 1 ]] && echo \"hello again!\"\n",
    "```\n",
    "```bash\n",
    "hello again!\n",
    "```\n",
    "```bash\n",
    "![[ 1 = 2 ]] && echo \"hello again!\"\n",
    "```\n",
    "Here is an example highlighting the differences between `[[` and `[`:\n",
    "```bash\n",
    "!string=\"hello again!\"\n",
    "![[ $string = \"hello again!\" ]] && echo $string\n",
    "```\n",
    "```bash\n",
    "hello again!\n",
    "```\n",
    "Note that this won't work with single brackets, as the space inside the string will make the `$string` variable be parsed as two arguments, resulting in a *\"too many arguments\"* error:\n",
    "```bash\n",
    "![ $string = \"hello again!\" ] && echo $string\n",
    "```\n",
    "```bash\n",
    "bash: [: too many arguments\n",
    "```\n",
    "To make the above work with single brackets, one might have to wrap the string variable in double quotes:\n",
    "```bash\n",
    "![ \"$string\" = \"hello again!\" ] && echo $string\n",
    "```\n",
    "```bash\n",
    "hello again!\n",
    "```\n",
    "Other benefits are that operators don't need to be escaped:\n",
    "```bash\n",
    "![[ 2 < 3 ]] && echo \"2 is smaller than 3\"\n",
    "```\n",
    "```bash\n",
    "2 is smaller than 3\n",
    "```\n",
    "Whereas the same statement with single brackets will fail (can you figure out why?):\n",
    "```bash\n",
    "![ 2 < 3 ] && echo \"2 is smaller than 3\"\n",
    "```\n",
    "```bash\n",
    "bash: 3: No such file or directory\n",
    "```\n",
    "The following (escaped) conditional works, however\n",
    "```bash\n",
    "![ 2 \\< 3 ] && echo \"2 is smaller than 3\"\n",
    "```\n",
    "```bash\n",
    "2 is smaller than 3\n",
    "```\n",
    "Combining conditionals can now be done in two ways: *outside* the brackets, much like with single brackets and *inside* the brackets, an option that becomes available due to the more liberal parsing requirements:\n",
    "```bash\n",
    "![[ 1 = 1 ]] || [[ 2 = 1 ]] && echo \"hello\"\n",
    "```\n",
    "```bash\n",
    "hello\n",
    "```\n",
    "```bash\n",
    "![[ 1 = 1 || 2 = 1 ]] && echo \"hello\"\n",
    "```\n",
    "```bash\n",
    "hello\n",
    "```\n",
    "In general, double brackets are just nicer to work with. However, if posix-complient bash scripting is important to you, single brackets are often sufficient. Just be aware of the pitfalls highlighted above."
   ]
  },
  {
   "cell_type": "markdown",
   "metadata": {},
   "source": [
    "## Control Flow"
   ]
  },
  {
   "cell_type": "markdown",
   "metadata": {},
   "source": [
    "The (double) square bracket syntax can be used inside control flow statements. For example:\n",
    "```bash\n",
    "if [ 1 = 1 ]; then\n",
    "    echo \"hello\"\n",
    "else\n",
    "    echo \"hey\"\n",
    "fi\n",
    "```\n",
    "```bash\n",
    "hello\n",
    "```\n",
    "Note that this is a very simplified example, so simple even that it is in fact equivalent to one of those oneliners we have been using so far:"
   ]
  },
  {
   "cell_type": "code",
   "execution_count": 29,
   "metadata": {},
   "outputs": [
    {
     "name": "stdout",
     "output_type": "stream",
     "text": [
      "hello\n"
     ]
    }
   ],
   "source": [
    "![ 1 = 1 ] && echo \"hello\" || echo \"hoi\""
   ]
  },
  {
   "cell_type": "markdown",
   "metadata": {},
   "source": [
    "However, these control flow statements obviously allow for much more complex cases."
   ]
  },
  {
   "cell_type": "markdown",
   "metadata": {},
   "source": [
    "That's it for now."
   ]
  }
 ],
 "metadata": {
  "kernelspec": {
   "display_name": "Python 3",
   "language": "python",
   "name": "python3"
  },
  "language_info": {
   "codemirror_mode": {
    "name": "ipython",
    "version": 3
   },
   "file_extension": ".py",
   "mimetype": "text/x-python",
   "name": "python",
   "nbconvert_exporter": "python",
   "pygments_lexer": "ipython3",
   "version": "3.7.7"
  }
 },
 "nbformat": 4,
 "nbformat_minor": 4
}
