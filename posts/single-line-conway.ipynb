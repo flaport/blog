{
 "cells": [
  {
   "cell_type": "markdown",
   "id": "752338d2-f246-4c73-82b5-f5a05fd0f760",
   "metadata": {},
   "source": [
    "# Conway Game of Life in a single line of Python"
   ]
  },
  {
   "cell_type": "code",
   "execution_count": 1,
   "id": "7322b9fa-8c44-4387-8733-9cda2330cc8e",
   "metadata": {},
   "outputs": [],
   "source": [
    "#!\n",
    "from time import sleep\n",
    "from ipywidgets import interact\n",
    "import matplotlib.pyplot as plt\n",
    "from IPython.display import clear_output"
   ]
  },
  {
   "cell_type": "markdown",
   "id": "23696e16-b08b-4b77-ac07-d783f55d08df",
   "metadata": {},
   "source": [
    "## Conway Game of life function\n",
    "\n",
    "On [Wikipedia](https://en.wikipedia.org/wiki/Conway%27s_Game_of_Life), Conway's game of life is described as a 2D grid of cells for which:\n",
    "\n",
    "1.  Any live cell with fewer than two live neighbours dies, as if by underpopulation.\n",
    "1.  Any live cell with two or three live neighbours lives on to the next generation.\n",
    "1.  Any live cell with more than three live neighbours dies, as if by overpopulation.\n",
    "1.  Any dead cell with exactly three live neighbours becomes a live cell, as if by reproduction.\n",
    "\n",
    "This is simple enough. Let's implement this in a single line of python. More specifically, we'll be able to represent the game as a single [generator expression](https://www.python.org/dev/peps/pep-0289/). This is possible since the introduction of the [Walrus Operator :=](https://www.python.org/dev/peps/pep-0572/). \n",
    "\n",
    "\n",
    "Anyway... Not sure why I did this:"
   ]
  },
  {
   "cell_type": "code",
   "execution_count": 6,
   "id": "81cc13c3-66f8-461e-b913-9bbbe4b86e95",
   "metadata": {},
   "outputs": [],
   "source": [
    "game_of_life = lambda initial_cells, num_steps: (cells := (set(initial_cells) if i == 0 else (cells.difference({(x, y) for (x, y) in cells if not 1 < len([(x + i, y + j) for i in (-1, 0, 1) for j in (-1, 0, 1) if (not i == j == 0 and (x + i, y + j) in cells)]) < 4 }).union({(x_, y_) for (x, y) in cells for (x_, y_) in ((x + i, y + j) for i in (-1, 0, 1) for j in (-1, 0, 1) if (not i == j == 0 and (x + i, y + j) not in cells)) if len([(x_ + i, y_ + j) for i in (-1, 0, 1) for j in (-1, 0, 1) if (not i == j == 0 and (x_ + i, y_ + j) in cells)]) == 3 }))) for i in range(num_steps))"
   ]
  },
  {
   "cell_type": "markdown",
   "id": "7030122b-7999-437a-8804-8c05f447e1c0",
   "metadata": {},
   "source": [
    "## Visualize"
   ]
  },
  {
   "cell_type": "code",
   "execution_count": 5,
   "id": "e09fd74e-8c35-488b-8ed7-5d4d8aa510a4",
   "metadata": {},
   "outputs": [
    {
     "data": {
      "image/png": "[encoded data removed]",
      "text/plain": [
       "<Figure size 360x360 with 1 Axes>"
      ]
     },
     "metadata": {
      "needs_background": "light"
     },
     "output_type": "display_data"
    }
   ],
   "source": [
    "#!\n",
    "X, Y = np.mgrid[0:50, 0:50]\n",
    "grid = np.zeros_like(X, dtype=int)\n",
    "\n",
    "initial_cells = {(2, 2), (2, 1), (2, 0), (1, 0), (0, 1)}\n",
    "num_steps = 120\n",
    "for cells in game_of_life(initial_cells, num_steps):\n",
    "    clear_output(wait=True)\n",
    "    grid[:, :] = 0\n",
    "    for x, y in cells:\n",
    "        grid[x, -y] = 1\n",
    "    plt.figure(figsize=(5, 5))\n",
    "    plt.axis('scaled')\n",
    "    p = plt.pcolormesh(X, Y, grid, cmap=\"Greys\")\n",
    "    plt.xticks(X[:,0]+0.5, [\"\" for _ in X[:, 0]])\n",
    "    plt.yticks(Y[0,:]+0.5, [\"\" for _ in Y[0, :]])\n",
    "    plt.grid(True)\n",
    "    plt.show()"
   ]
  }
 ],
 "metadata": {
  "kernelspec": {
   "display_name": "sax",
   "language": "python",
   "name": "sax"
  },
  "language_info": {
   "codemirror_mode": {
    "name": "ipython",
    "version": 3
   },
   "file_extension": ".py",
   "mimetype": "text/x-python",
   "name": "python",
   "nbconvert_exporter": "python",
   "pygments_lexer": "ipython3",
   "version": "3.9.7"
  }
 },
 "nbformat": 4,
 "nbformat_minor": 5
}
