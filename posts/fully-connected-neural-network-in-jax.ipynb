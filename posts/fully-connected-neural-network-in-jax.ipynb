{
 "cells": [
  {
   "cell_type": "markdown",
   "metadata": {},
   "source": [
    "# A Fully connected neural network in JAX\n",
    "JAX is the hot new ML-tool on the block. I'm currently trying to get acquinted with it. The first thing I usually do to get to know a tool like this is to make a simple neural network to solve the MNIST digit recognition task. So here we go..."
   ]
  },
  {
   "cell_type": "markdown",
   "metadata": {
    "_cell_guid": "39fba1ef-ec4b-38ca-fca0-0bdb31e294f4"
   },
   "source": [
    "## Imports\n",
    "We only need JAX, JAX optimizers, the JAX version of Numpy and matplotlib for plotting..."
   ]
  },
  {
   "cell_type": "code",
   "execution_count": 1,
   "metadata": {
    "_cell_guid": "6efa16c1-f457-45bb-49a3-69e11c7fae18"
   },
   "outputs": [],
   "source": [
    "%matplotlib inline\n",
    "import jax\n",
    "import jax.numpy as jnp\n",
    "import jax.experimental.optimizers\n",
    "import matplotlib.pyplot as plt"
   ]
  },
  {
   "cell_type": "markdown",
   "metadata": {},
   "source": [
    "## Fetch MNIST"
   ]
  },
  {
   "cell_type": "markdown",
   "metadata": {},
   "source": [
    "To reduce the dependencies on external tools, I wrote my own function to fetch the MNIST dataset directly from Yann Lecun's website..."
   ]
  },
  {
   "cell_type": "code",
   "execution_count": 2,
   "metadata": {},
   "outputs": [],
   "source": [
    "def fetch_mnist(directory:str=\"mnist_data\", redownload:bool=False):\n",
    "    ''' Get MNIST data in npy format\n",
    "\n",
    "    Args:\n",
    "        directory: directory to download the MNIST dataset into\n",
    "        redownload: force redownload, even if file already exists\n",
    "    '''\n",
    "    import os\n",
    "    directory = os.path.abspath(os.path.expanduser(directory))\n",
    "    os.makedirs(directory, exist_ok=True)\n",
    "    \n",
    "    if not redownload and os.path.exists(f'{directory}/train.npy') and os.path.exists(f'{directory}/test.npy'):\n",
    "        return jnp.load(f'{directory}/train.npy'), jnp.load(f'{directory}/test.npy')\n",
    "        \n",
    "    from urllib.request import urlretrieve\n",
    "    if redownload or not os.path.exists(f'{directory}/train_images.gz'):\n",
    "        print(\"downloading train images from 'http://yann.lecun.com/exdb/mnist/train-images-idx3-ubyte.gz'\")\n",
    "        urlretrieve('http://yann.lecun.com/exdb/mnist/train-images-idx3-ubyte.gz', f'{directory}/train_images.gz')\n",
    "    if redownload or not os.path.exists(f'{directory}/train_labels.gz'):\n",
    "        print(\"downloading train labels from 'http://yann.lecun.com/exdb/mnist/train-labels-idx1-ubyte.gz'\")\n",
    "        urlretrieve('http://yann.lecun.com/exdb/mnist/train-labels-idx1-ubyte.gz', f'{directory}/train_labels.gz')\n",
    "    if redownload or not os.path.exists(f'{directory}/test_images.gz'):\n",
    "        print(\"downloading test images from 'http://yann.lecun.com/exdb/mnist/t10k-images-idx3-ubyte.gz'\")\n",
    "        urlretrieve('http://yann.lecun.com/exdb/mnist/t10k-images-idx3-ubyte.gz', f'{directory}/test_images.gz')\n",
    "    if redownload or not os.path.exists(f'{directory}/test_labels.gz'):\n",
    "        print(\"downloading test labels from 'http://yann.lecun.com/exdb/mnist/t10k-labels-idx1-ubyte.gz'\")\n",
    "        urlretrieve('http://yann.lecun.com/exdb/mnist/t10k-labels-idx1-ubyte.gz', f'{directory}/test_labels.gz')\n",
    "\n",
    "    # empty arrays to fill (jax numpy arrays are immuable, hence the use of standard numpy):\n",
    "    from numpy import empty, uint8\n",
    "    train = empty((60000, 785), dtype=uint8)\n",
    "    test = empty((10000, 785), dtype=uint8)\n",
    "    \n",
    "    print('converting .gz data to .npy')\n",
    "\n",
    "    import gzip\n",
    "    for type, npdata in [('train', train), ('test', test)]:\n",
    "        # open the files\n",
    "        with gzip.open(f'{directory}/%s_images.gz'%type, 'rb') as data,\\\n",
    "             gzip.open(f'{directory}/%s_labels.gz'%type, 'rb') as labels:\n",
    "\n",
    "            # skip the first bytes with metadata of the ubyte file:\n",
    "            data.read(16)\n",
    "            labels.read(8)\n",
    "\n",
    "            # read each byte of the gzip file and save it as a uint8 number\n",
    "            # in the numpy array.\n",
    "            for i in range(npdata.shape[0]):\n",
    "                npdata[i,0] = ord(labels.read(1))\n",
    "                for j in range(784): # append the data after the label\n",
    "                    npdata[i, j+1] = ord(data.read(1))\n",
    "                    \n",
    "    train = jax.device_put(train)\n",
    "    test = jax.device_put(test)\n",
    "\n",
    "    # save numpy arrays\n",
    "    jnp.save(f'{directory}/train.npy', train)\n",
    "    jnp.save(f'{directory}/test.npy', test)\n",
    "    \n",
    "    print('finished conversion.')\n",
    "\n",
    "    return train, test"
   ]
  },
  {
   "cell_type": "markdown",
   "metadata": {
    "_cell_guid": "f731214e-9fca-f54d-91be-60475207ba64"
   },
   "source": [
    "## Data"
   ]
  },
  {
   "cell_type": "markdown",
   "metadata": {},
   "source": [
    "The image values are specified by integers between 0 and 255. We convert these pixel values to floats between 0 and 1. Moreover, we split the data in a training set of 50000 images, a validation set of 10000 images and a test set of 10000 images."
   ]
  },
  {
   "cell_type": "code",
   "execution_count": 3,
   "metadata": {
    "_cell_guid": "cc368a9d-79d3-6e70-1732-4ebdd696a409"
   },
   "outputs": [
    {
     "name": "stdout",
     "output_type": "stream",
     "text": [
      "train data shape:\t(50000, 784)\n",
      "train labels shape:\t(50000,)\n"
     ]
    }
   ],
   "source": [
    "test_size, valid_size = 10000, 10000\n",
    "train_data, test_data = fetch_mnist()\n",
    "data = jnp.vstack([train_data, test_data])\n",
    "train_data = data[:-test_size-valid_size]\n",
    "valid_data = data[-test_size-valid_size:-test_size]\n",
    "test_data  = data[-test_size:]\n",
    "train_size = train_data.shape[0]\n",
    "\n",
    "def get_values_labels(data):\n",
    "    labels = jnp.array(data[:,0], dtype=jnp.int32)\n",
    "    values = jnp.array(data[:,1:], dtype=jnp.float32)/255.0\n",
    "    return values, labels\n",
    "\n",
    "train_values, train_labels = get_values_labels(train_data)\n",
    "valid_values, valid_labels = get_values_labels(valid_data)\n",
    "test_values, test_labels = get_values_labels(test_data)\n",
    "num_pixels = train_values.shape[-1]\n",
    "num_labels = int(train_labels.max())+1\n",
    "\n",
    "print(f'train data shape:\\t{train_values.shape}')\n",
    "print(f'train labels shape:\\t{train_labels.shape}')"
   ]
  },
  {
   "cell_type": "markdown",
   "metadata": {},
   "source": [
    "We can visualize the different digits by writing a visualization function that reshapes the 784D train and test values into a 28x28 grid:"
   ]
  },
  {
   "cell_type": "code",
   "execution_count": 4,
   "metadata": {},
   "outputs": [
    {
     "data": {
      "image/png": "[encoded data removed]",
      "text/plain": [
       "<Figure size 432x288 with 1 Axes>"
      ]
     },
     "metadata": {},
     "output_type": "display_data"
    }
   ],
   "source": [
    "def show_digit(digit_array):\n",
    "    plt.imshow(digit_array.reshape(28, 28), cmap='Greys')\n",
    "    plt.xticks([])\n",
    "    plt.yticks([])\n",
    "    plt.show()\n",
    "    \n",
    "show_digit(train_values[31])"
   ]
  },
  {
   "cell_type": "markdown",
   "metadata": {},
   "source": [
    "## Random numbers in JAX"
   ]
  },
  {
   "cell_type": "markdown",
   "metadata": {},
   "source": [
    "Maybe it's time to quickly talk about random numbers in JAX. They are generated differently than in Numpy. The main reason for this is to make it easier to paralellize random number generation over multiple devices. To generate random numbers, a Pseudo Random Number Generator (PRNG) Key needs to be defined from a seed:"
   ]
  },
  {
   "cell_type": "code",
   "execution_count": 5,
   "metadata": {
    "_cell_guid": "6efa16c1-f457-45bb-49a3-69e11c7fae18"
   },
   "outputs": [],
   "source": [
    "prng = jax.random.PRNGKey(42)"
   ]
  },
  {
   "cell_type": "markdown",
   "metadata": {},
   "source": [
    "now, to generate random numbers, the key first needs to be split into a key to use later and a key to use right now:"
   ]
  },
  {
   "cell_type": "code",
   "execution_count": 6,
   "metadata": {},
   "outputs": [
    {
     "data": {
      "text/plain": [
       "DeviceArray([[-1.6652092 ,  0.23443979, -0.24498989],\n",
       "             [ 0.44707215, -0.37714297,  0.28259823],\n",
       "             [-0.11017016,  0.5699527 ,  0.33960482]], dtype=float32)"
      ]
     },
     "execution_count": 6,
     "metadata": {},
     "output_type": "execute_result"
    }
   ],
   "source": [
    "prng, key = jax.random.split(prng, 2)\n",
    "jax.random.normal(key, (3,3))"
   ]
  },
  {
   "cell_type": "markdown",
   "metadata": {},
   "source": [
    "This procedure is repeated every time a new random array needs to be generated."
   ]
  },
  {
   "cell_type": "markdown",
   "metadata": {},
   "source": [
    "## Model"
   ]
  },
  {
   "cell_type": "markdown",
   "metadata": {},
   "source": [
    "Let's make a simple three layer fully connected neural network. Due to JAX's functional nature it's often good practice (and a lot easier) to keep the model parameters together in a dictionary:"
   ]
  },
  {
   "cell_type": "code",
   "execution_count": 7,
   "metadata": {},
   "outputs": [],
   "source": [
    "prng, w1key, b1key, w2key, b2key, w3key, b3key = jax.random.split(prng, 7)\n",
    "num_hidden1 = 2048\n",
    "num_hidden2 = 1024\n",
    "params = dict(\n",
    "    w1 = 1e-2*jax.random.normal(w1key, (num_pixels, num_hidden1)),\n",
    "    b1 = 1e-2*jax.random.normal(b1key, (1, num_hidden1)),\n",
    "    w2 = 1e-2*jax.random.normal(w2key, (num_hidden1, num_hidden2)),\n",
    "    b2 = 1e-2*jax.random.normal(b2key, (1, num_hidden2)),\n",
    "    w3 = 1e-2*jax.random.normal(w3key, (num_hidden2, num_labels)),\n",
    "    b3 = 1e-2*jax.random.normal(b3key, (1, num_labels)),\n",
    ")"
   ]
  },
  {
   "cell_type": "code",
   "execution_count": 8,
   "metadata": {},
   "outputs": [],
   "source": [
    "@jax.jit\n",
    "def forward(params, x):\n",
    "    x = jax.nn.relu(x@params[\"w1\"] + params[\"b1\"])\n",
    "    x = jax.nn.relu(x@params[\"w2\"] + params[\"b2\"])\n",
    "    x = x@params[\"w3\"] + params[\"b3\"]\n",
    "    return x"
   ]
  },
  {
   "cell_type": "markdown",
   "metadata": {
    "_cell_guid": "e33cb0c7-51ed-02ae-ebb2-dcda12832da6"
   },
   "source": [
    "## Train"
   ]
  },
  {
   "cell_type": "markdown",
   "metadata": {},
   "source": [
    "We use the categorical cross entropy loss for training the model. We define this loss function ourselves  as JAX does not off loss primitives (try to figure out what's going on!). For this we use both [jax.jit](https://jax.readthedocs.io/en/latest/jax.html?highlight=jit#jax.jit) and [jax.vmap](https://jax.readthedocs.io/en/latest/jax.html?highlight=jit#jax.vmap)."
   ]
  },
  {
   "cell_type": "code",
   "execution_count": 9,
   "metadata": {},
   "outputs": [],
   "source": [
    "@jax.jit\n",
    "def xeloss(x, y):\n",
    "    _elementwise_xeloss = jax.vmap(lambda x, y: -jax.nn.log_softmax(x)[y])\n",
    "    return _elementwise_xeloss(x, y).mean()"
   ]
  },
  {
   "cell_type": "markdown",
   "metadata": {},
   "source": [
    "It's also useful to define an accuracy function..."
   ]
  },
  {
   "cell_type": "code",
   "execution_count": 10,
   "metadata": {},
   "outputs": [],
   "source": [
    "@jax.jit\n",
    "def accuracy(x, y):\n",
    "    return 100*(jnp.argmax(x, 1) == y).mean()"
   ]
  },
  {
   "cell_type": "markdown",
   "metadata": {},
   "source": [
    "Due to the functional nature of JAX, it's also useful to define a forward function that yields just the loss (in stead of the logits)."
   ]
  },
  {
   "cell_type": "code",
   "execution_count": 11,
   "metadata": {},
   "outputs": [],
   "source": [
    "@jax.jit\n",
    "def lossforward(params, x, y):\n",
    "    x = forward(params, x)\n",
    "    loss = xeloss(x, y)\n",
    "    return loss"
   ]
  },
  {
   "cell_type": "markdown",
   "metadata": {},
   "source": [
    "As optimizer we could use a Gradient Descent optimizer [with or without decaying learning rate] or one of the more sophisticated (and easier to optimize) optimizers like Adam or RMSProp. We're going for the adam optimizer."
   ]
  },
  {
   "cell_type": "code",
   "execution_count": 12,
   "metadata": {},
   "outputs": [],
   "source": [
    "# optimizer\n",
    "learning_rate = 0.001\n",
    "optim_init, optim_update, optim_params = jax.experimental.optimizers.adam(learning_rate)\n",
    "optim_state = optim_init(params)"
   ]
  },
  {
   "cell_type": "markdown",
   "metadata": {},
   "source": [
    "This is where the functional nature of JAX shows itself again... as can be seen above, creating an optimizer just creates three functions: an initialization function with which to initialize the optimizer state, an update function which will update the optimizer state (and with it the model parameters). The third function that's being returned will give the model parameters given the optimizer state."
   ]
  },
  {
   "cell_type": "markdown",
   "metadata": {},
   "source": [
    "given all this, we can define a single training step:"
   ]
  },
  {
   "cell_type": "code",
   "execution_count": 13,
   "metadata": {},
   "outputs": [],
   "source": [
    "@jax.jit\n",
    "def train_step(step, optim_state, x, y):\n",
    "    params = optim_params(optim_state)\n",
    "    loss, grads = jax.value_and_grad(lossforward)(params, x, y)\n",
    "    optim_state = optim_update(step, grads, optim_state)\n",
    "    return loss, optim_state"
   ]
  },
  {
   "cell_type": "markdown",
   "metadata": {},
   "source": [
    "Finally, we can start the training:"
   ]
  },
  {
   "cell_type": "code",
   "execution_count": 14,
   "metadata": {
    "_cell_guid": "4dbef346-feb4-1479-62a8-042785666e66"
   },
   "outputs": [
    {
     "name": "stdout",
     "output_type": "stream",
     "text": [
      "Step     0\t Valid. Acc. = 11.00\n",
      "Step   200\t Valid. Acc. = 94.14\n",
      "Step   400\t Valid. Acc. = 96.26\n",
      "Step   600\t Valid. Acc. = 96.38\n",
      "Step   800\t Valid. Acc. = 97.06\n",
      "Step  1000\t Valid. Acc. = 97.47\n",
      "Step  1200\t Valid. Acc. = 97.26\n",
      "Step  1400\t Valid. Acc. = 97.32\n",
      "Step  1600\t Valid. Acc. = 97.75\n",
      "Step  1800\t Valid. Acc. = 97.68\n",
      "Step  1999\t Valid. Acc. = 97.50\n"
     ]
    }
   ],
   "source": [
    "history = []\n",
    "batch_size = 100\n",
    "num_steps = 2000\n",
    "for step in range(num_steps):\n",
    "    if step%200 == 0 or step == num_steps - 1:\n",
    "        valid_logits = forward(optim_params(optim_state), valid_values)\n",
    "        valid_loss = xeloss(valid_logits, valid_labels)\n",
    "        valid_accuracy = accuracy(valid_logits, valid_labels)\n",
    "        history.append((step, valid_loss, valid_accuracy))\n",
    "        print(f\"Step {step:5.0f}\\t Valid. Acc. = {valid_accuracy:5.2f}\")\n",
    "    prng, key = jax.random.split(prng)\n",
    "    idxs = jax.random.randint(key, (batch_size,), 0, train_size)\n",
    "    x = train_values[idxs]\n",
    "    y = train_labels[idxs]\n",
    "    loss, optim_state = train_step(step, optim_state, x, y)"
   ]
  },
  {
   "cell_type": "markdown",
   "metadata": {},
   "source": [
    "We can visualize the training history:"
   ]
  },
  {
   "cell_type": "code",
   "execution_count": 15,
   "metadata": {},
   "outputs": [
    {
     "data": {
      "image/png": "[encoded data removed]",
      "text/plain": [
       "<Figure size 432x288 with 2 Axes>"
      ]
     },
     "metadata": {},
     "output_type": "display_data"
    }
   ],
   "source": [
    "steps, loss, acc = zip(*history)\n",
    "\n",
    "fig, ax_loss = plt.subplots()\n",
    "ax_acc = ax_loss.twinx()\n",
    "\n",
    "plt.sca(ax_acc)\n",
    "plt.plot(steps, acc, '-o', color='C1')\n",
    "plt.ylabel('Accuracy [%]', color='C1');\n",
    "plt.tick_params('y', colors='C1')\n",
    "plt.ylim(90,100)\n",
    "plt.yticks([90,95,100])\n",
    "\n",
    "plt.sca(ax_loss)\n",
    "plt.plot(steps, loss, '-o', color='C0')\n",
    "plt.ylabel('Log Loss', color='C0');\n",
    "plt.tick_params('y', colors='C0')\n",
    "m = 1.1*max(loss)\n",
    "plt.ylim(0.01, 0.3)\n",
    "\n",
    "plt.xlim(0, (max(steps)+100)//100*100)\n",
    "plt.xlabel('Training Steps')\n",
    "plt.title('Validation Loss / Accuracy')\n",
    "plt.show()"
   ]
  },
  {
   "cell_type": "markdown",
   "metadata": {},
   "source": [
    "## Test"
   ]
  },
  {
   "cell_type": "markdown",
   "metadata": {},
   "source": [
    "Finally, the accuracy on the test set can be evaluated:"
   ]
  },
  {
   "cell_type": "code",
   "execution_count": 16,
   "metadata": {},
   "outputs": [
    {
     "name": "stdout",
     "output_type": "stream",
     "text": [
      "Test Accuracy = 97.51\n"
     ]
    }
   ],
   "source": [
    "params = optim_params(optim_state)\n",
    "test_logits = forward(params, test_values)\n",
    "test_accuracy = accuracy(test_logits, test_labels)\n",
    "print(f'Test Accuracy = {test_accuracy:5.2f}')"
   ]
  },
  {
   "cell_type": "markdown",
   "metadata": {},
   "source": [
    "Visualize an example"
   ]
  },
  {
   "cell_type": "code",
   "execution_count": 17,
   "metadata": {},
   "outputs": [
    {
     "data": {
      "image/png": "[encoded data removed]",
      "text/plain": [
       "<Figure size 432x288 with 1 Axes>"
      ]
     },
     "metadata": {},
     "output_type": "display_data"
    },
    {
     "name": "stdout",
     "output_type": "stream",
     "text": [
      "prediction=9\ttarget=9\n"
     ]
    }
   ],
   "source": [
    "N = 315\n",
    "show_digit(test_values[N])\n",
    "test_logits = forward(params, test_values[N:N+1])\n",
    "prediction = jnp.argmax(test_logits[0]).item()\n",
    "target = test_labels[N].item()\n",
    "print(f'prediction={prediction}\\ttarget={target}')"
   ]
  },
  {
   "cell_type": "markdown",
   "metadata": {},
   "source": [
    "That's it! A very simple example on how to use JAX. "
   ]
  }
 ],
 "metadata": {
  "_change_revision": 0,
  "_is_fork": false,
  "kernelspec": {
   "display_name": "Python 3",
   "language": "python",
   "name": "python3"
  },
  "language_info": {
   "codemirror_mode": {
    "name": "ipython",
    "version": 3
   },
   "file_extension": ".py",
   "mimetype": "text/x-python",
   "name": "python",
   "nbconvert_exporter": "python",
   "pygments_lexer": "ipython3",
   "version": "3.8.5"
  }
 },
 "nbformat": 4,
 "nbformat_minor": 4
}
