{
 "cells": [
  {
   "cell_type": "markdown",
   "metadata": {},
   "source": [
    "# Nextcloud on Arch Linux\n",
    "I recently had to re-install nextcloud on my arch linux server. I decided it was time to finally document this process. It's not so difficult, but there are a lot of moving parts that need to come together."
   ]
  },
  {
   "cell_type": "markdown",
   "metadata": {},
   "source": [
    "## Installing dependencies"
   ]
  },
  {
   "cell_type": "markdown",
   "metadata": {},
   "source": [
    "These are all the packages you'll need to install. Go ahead and install them first with your AUR helper (like yay), we'll go over the configuration later."
   ]
  },
  {
   "cell_type": "markdown",
   "metadata": {},
   "source": [
    "```bash\n",
    "apache\n",
    "imagemagick\n",
    "smbclient\n",
    "mariadb\n",
    "ffmpeg\n",
    "libreoffice\n",
    "php\n",
    "php-gd\n",
    "php-imagick\n",
    "php-memcached\n",
    "php-apcu\n",
    "php-imap\n",
    "php-smbclient\n",
    "php-intl\n",
    "php-fpm\n",
    "nextcloud\n",
    "certbot\n",
    "certbot-apache\n",
    "```"
   ]
  },
  {
   "cell_type": "markdown",
   "metadata": {},
   "source": [
    "## MariaDB\n",
    "\n",
    "### Base mariadb installation\n",
    "\n",
    "Mariadb is the FOSS version of MySQL. Install and enable as follows:\n",
    "```bash\n",
    "    sudo mariadb-install-db --user=mysql --basedir=/usr --datadir=/var/lib/mysql\n",
    "    sudo systemctl enable mariadb\n",
    "    sudo systemctl start mariadb\n",
    "```\n",
    "\n",
    "This enables the mariadb service, however, it's not yet secure. Run the following to make your mariadb installation more secure:\n",
    "```bash\n",
    "    sudo mysql_secure_installation\n",
    "```\n",
    "\n",
    "There's no password set for the root user, so just press enter when asked for a password. Then, choose the following options for the rest of the installer.\n",
    "```bash\n",
    "Switch to unix_socket authentication [Y/n] y\n",
    "Change the root password? [Y/n] n\n",
    "Remove anonymous users? [Y/n] y\n",
    "Disallow root login remotely? [Y/n] y\n",
    "Remove test database and access to it? [Y/n] y\n",
    "Reload privilege tables now? [Y/n] y\n",
    "```\n",
    "\n",
    "config file is located at `/etc/my.cnf`\n",
    "\n",
    "Then edit `/etc/my.cnf.d/server.cnf` and make sure the following `mysqld` section exists:\n",
    "\n",
    "```ini\n",
    "[mysqld]\n",
    "skip-networking = 1\n",
    "log-bin = mysql-bin\n",
    "binlog_format = mixed\n",
    "```\n",
    "\n",
    "We also need to add a compatibility flag for newer mariadb versions:\n",
    "\n",
    "```ini\n",
    "[mariadb-10.6]\n",
    "innodb_read_only_compressed=OFF\n",
    "```"
   ]
  },
  {
   "cell_type": "markdown",
   "metadata": {},
   "source": [
    "### Nextcloud database\n",
    "\n",
    "Create a `nextcloud` user by first starting mysql with the mysql root account:\n",
    "\n",
    "```bash\n",
    "    sudo mysql -u root\n",
    "```\n",
    "\n",
    "Then, within the SQL prompt, create a new user called \"nextcloud\":\n",
    "```sql\n",
    "    create user nextcloud@localhost identified by '<password>';\n",
    "```\n",
    "\n",
    "FYI, you can see all users with the following SQL command:\n",
    "```sql\n",
    "    select user from mysql.user;\n",
    "```\n",
    "\n",
    "Next, create an empty database called \"nextcloud\":\n",
    "```sql\n",
    "    create database nextcloud;\n",
    "    grant all privileges on nextcloud.* to nextcloud@localhost identified by '<password>';\n",
    "    flush privileges;\n",
    "```\n",
    "\n",
    "FYI, you can see all databases with the following SQL command:\n",
    "\n",
    "```sql\n",
    "    show databases;\n",
    "```\n",
    "\n",
    "Exit the sql prompt:\n",
    "\n",
    "```sql\n",
    "    exit;\n",
    "```\n",
    "\n",
    "For a new nextcloud installation, that's it. Your database is now correctly configured. However, when migrating your nextcloud installation from one server to another, do the following two steps as well:\n",
    "\n",
    "First, **on the old server**, export your \"nextcloud\" database (assuming user \"nextcloud\" and database \"nextcloud\"):\n",
    "```bash\n",
    "    sudo mysqldump -u nextcloud -p --opt nextcloud > exported_database.sql\n",
    "```\n",
    "Copy `exported_database.sql` to the new server.\n",
    "\n",
    "Then, **on the new server**, import `exported_database.sql` into the newly created empty \"nextcloud\" database as follows:\n",
    "```bash\n",
    "    sudo mysql -u root nextcloud < exported_database.sql\n",
    "```\n",
    "\n",
    "Note that this might take a considerable amount of time for large databases. However, this should be enough to set up MariaDB database correctly."
   ]
  },
  {
   "cell_type": "markdown",
   "metadata": {},
   "source": [
    "## PHP"
   ]
  },
  {
   "cell_type": "markdown",
   "metadata": {},
   "source": [
    "### Extensions"
   ]
  },
  {
   "cell_type": "markdown",
   "metadata": {},
   "source": [
    "All dependencies should already have been installed in the \"Install Dependencies\" section. Now enable all php packages you need by editing the 'Dynamic Extensions' section in `/etc/php/php.ini`. Make sure the following packages are uncommented/added:"
   ]
  },
  {
   "cell_type": "markdown",
   "metadata": {},
   "source": [
    "```ini\n",
    ";;;;;;;;;;;;;;;;;;;;;;\n",
    "; Dynamic Extensions ;\n",
    ";;;;;;;;;;;;;;;;;;;;;;\n",
    "\n",
    "extension=apcu\n",
    "extension=bcmath\n",
    "extension=bz2\n",
    ";extension=calendar\n",
    "extension=curl\n",
    ";extension=dba\n",
    ";extension=enchant\n",
    "extension=exif\n",
    ";extension=ffi\n",
    "extension=ftp\n",
    "extension=gd\n",
    ";extension=gettext\n",
    "extension=gmp\n",
    "extension=iconv\n",
    "extension=imagick\n",
    "extension=imap\n",
    "extension=intl\n",
    "extension=ldap\n",
    "extension=memcached\n",
    "extension=mysqli\n",
    ";extension=odbc\n",
    "zend_extension=opcache\n",
    ";extension=pdo_dblib\n",
    "extension=pdo_mysql\n",
    ";extension=pdo_odbc\n",
    ";extension=pdo_pgsql\n",
    ";extension=pdo_sqlite\n",
    ";extension=pgsql\n",
    ";extension=pspell\n",
    ";extension=shmop\n",
    ";extension=snmp\n",
    ";extension=soap\n",
    ";extension=sockets\n",
    ";extension=sodium\n",
    ";extension=sqlite3\n",
    ";extension=sysvmsg\n",
    ";extension=sysvsem\n",
    ";extension=sysvshm\n",
    ";extension=tidy\n",
    ";extension=xmlrpc\n",
    ";extension=xsl\n",
    "extension=zip\n",
    "```\n",
    "\n",
    "Also, don't forget to set your timezone in `/etc/php/php.ini`. For example:\n",
    "\n",
    "```\n",
    "date.timezone = Europe/Berlin\n",
    "```\n",
    "\n",
    "And set the `session.save_path` variable:\n",
    "\n",
    "```ini\n",
    "session.save_path = \"/tmp\"\n",
    "```\n",
    "\n",
    "We also want to increase the maximum opload size:\n",
    "\n",
    "```ini\n",
    "upload_max_filesize = 25M\n",
    "```\n",
    "\n",
    "Finally, you'll need to set the `fix_pathinfo` flag:\n",
    "\n",
    "```ini\n",
    "cgi.fix_pathinfo=1\n",
    "```"
   ]
  },
  {
   "cell_type": "markdown",
   "metadata": {},
   "source": [
    "### OPCache\n",
    "\n",
    "Next, we need to improve the caching. Edit the `[opcache]` section in `/etc/php/php.ini`:"
   ]
  },
  {
   "cell_type": "markdown",
   "metadata": {},
   "source": [
    "```ini\n",
    "[opcache]\n",
    "opcache.enable = 1\n",
    "opcache.memory_consumption = 512\n",
    "opcache.interned_strings_buffer = 16\n",
    "opcache.max_accelerated_files = 10000\n",
    "opcache.revalidate_freq = 1\n",
    "opcache.save_comments = 1\n",
    "```"
   ]
  },
  {
   "cell_type": "markdown",
   "metadata": {},
   "source": [
    "Then increase `memory_limit` (somewhere in the same file) to `512M`."
   ]
  },
  {
   "cell_type": "markdown",
   "metadata": {},
   "source": [
    "### APCU\n",
    "\n",
    "We also want to enable apcu caching. Add the following to the end of `/etc/php/php.ini`:\n",
    "\n",
    "```ini\n",
    "[apcu]\n",
    "apc.enabled=1\n",
    "apc.shm_size=32M\n",
    "apc.ttl=7200\n",
    "apc.enable_cli=1\n",
    "```"
   ]
  },
  {
   "cell_type": "markdown",
   "metadata": {},
   "source": [
    "### PHP-FPM\n",
    "\n",
    "create `/etc/php/php-fpm.d/nextcloud.conf` and add the following content:\n",
    "\n",
    "```ini\n",
    "[nextcloud]\n",
    "user = nextcloud\n",
    "group = nextcloud\n",
    "listen = /run/nextcloud/nextcloud.sock\n",
    "env[PATH] = /usr/local/bin:/usr/bin:/bin:/usr/local/sbin\n",
    "env[TMP] = /tmp\n",
    "\n",
    "listen.owner = http\n",
    "listen.group = http\n",
    "\n",
    "pm = dynamic\n",
    "pm.max_children = 120\n",
    "pm.start_servers = 12\n",
    "pm.min_spare_servers = 6\n",
    "pm.max_spare_servers = 18\n",
    "```"
   ]
  },
  {
   "cell_type": "markdown",
   "metadata": {},
   "source": [
    "Then edit the php-fpm service\n",
    "```bash\n",
    "    sudo systemctl edit php-fpm\n",
    "```\n",
    " \n",
    " And add the path to your nextcloud data directory as follows:\n",
    " \n",
    "```ini\n",
    "[Service]\n",
    "# your nextcloud data directory\n",
    "ReadWritePaths = /var/lib/nextcloud/data\n",
    "\n",
    "# your nextcloud apps directory\n",
    "ReadWritePaths = /var/lib/nextcloud/apps\n",
    "\n",
    "# your config directory\n",
    "ReadWritePaths=/etc/webapps/nextcloud/config\n",
    "```"
   ]
  },
  {
   "cell_type": "markdown",
   "metadata": {},
   "source": [
    "Finally, enable and start the `php-fpm` service:\n",
    "```bash\n",
    "    sudo systemctl enable php-fpm\n",
    "    sudo systemctl restart php-fpm\n",
    "```"
   ]
  },
  {
   "cell_type": "markdown",
   "metadata": {},
   "source": [
    "## Nextcloud server installation"
   ]
  },
  {
   "cell_type": "markdown",
   "metadata": {},
   "source": [
    "First, edit your nextcloud configuration file at `/etc/webapps/nextcloud/config/config.php`. Here you can change the location of your data folder and the location where apps will be installed. The default locations are:\n",
    "\n",
    "- datadirectory: `/var/lib/nextcloud/data`\n",
    "- apps: `/var/lib/nextcloud/apps`\n",
    "\n",
    "We won't be changing these locations, however make sure they match the `ReadWritePaths` in your php-fpm service. We should also add the following line to enable better APCu caching:\n",
    "\n",
    "```php\n",
    "'memcache.local' => '\\OC\\Memcache\\APCu',\n",
    "```\n",
    "\n",
    "This will prevent nextcloud from overriding your settings. The only way to update the settings is by editing the file manually from now on.\n",
    "\n",
    "Finally, we want to prevent installing updates for nextcloud via pacman (we can always manually update it by explicitly reinstalling). Edit `/etc/pacman.conf` and add:\n",
    "\n",
    "```ini\n",
    "IgnorePkg = nextcloud\n",
    "```\n",
    "\n",
    "### Note\n",
    "\n",
    "If you're reinstalling nextcloud, be sure to use your old config file!"
   ]
  },
  {
   "cell_type": "markdown",
   "metadata": {},
   "source": [
    "### Cron Jobs\n",
    "\n",
    "We also need to install a cron job for nextcloud. We can do this using systemd timers. \n",
    "\n",
    "First, create `/etc/systemd/system/nextcloudcron.service`:\n",
    "\n",
    "```ini\n",
    "[Unit]\n",
    "Description=nextcloud cron.php job\n",
    "\n",
    "[Service]\n",
    "User=nextcloud\n",
    "ExecStart=/usr/bin/php -f /usr/share/webapps/nextcloud/cron.php\n",
    "```\n",
    "\n",
    "Then create `/etc/systemd/system/nextcloudcron.timer`:\n",
    "\n",
    "```ini\n",
    "[Unit]\n",
    "Description=Run Nextcloud cron.php every 5 minutes\n",
    "\n",
    "[Timer]\n",
    "OnBootSec=5min\n",
    "OnUnitActiveSec=5min\n",
    "Unit=nextcloudcron.service\n",
    "\n",
    "[Install]\n",
    "WantedBy=timers.target\n",
    "```\n",
    "\n",
    "then enable and start the timer\n",
    "\n",
    "```\n",
    "sudo systemctl enable nextcloudcron.timer\n",
    "sudo systemctl start nextcloudcron.timer\n",
    "```"
   ]
  },
  {
   "cell_type": "markdown",
   "metadata": {},
   "source": [
    "## Domain name"
   ]
  },
  {
   "cell_type": "markdown",
   "metadata": {},
   "source": [
    "Make sure you have a domain name associated to your ip address. If you're currently working in a local setup and do not have a domain associated with your account you can edit `/etc/hosts` to add a *fake* link between a domain and the local host. Let's assume we're using the `nextcloud.example.com` domain, add this to your `/etc/hosts`:\n",
    "\n",
    "```\n",
    "127.0.0.1 nextcloud.example.com\n",
    "```\n",
    "\n",
    "**NOTE: do this only if you do not have an actual domain pointing to your public ip!**\n",
    "\n",
    "Now, add this host to your nextcloud config at `/etc/webapps/nextcloud/config/config.php` by adding the following `'trusted_domains'`:\n",
    "\n",
    "```php\n",
    "'trusted_domains' => \n",
    "array (\n",
    "  0 => 'nextcloud.example.com',\n",
    ")\n",
    "```\n",
    "\n",
    "You can add as many trusted domains as you want. Nextcloud will refuse to serve to any domains not in this list."
   ]
  },
  {
   "cell_type": "markdown",
   "metadata": {},
   "source": [
    "## Apache config"
   ]
  },
  {
   "cell_type": "markdown",
   "metadata": {},
   "source": [
    "Finally, we need to configure Apache (you can also use nginx, but in general I feel like Apache just works better and is easier to configure). Copy the default apache configuration file into `/etc/httpd/conf/extra`:\n",
    "\n",
    "```bash\n",
    "sudo cp /usr/share/doc/nextcloud/apache.example.conf /etc/httpd/conf/extra/nextcloud.conf\n",
    "```\n",
    "\n",
    "Then change the servername in `/etc/httpd/conf/extra/nextcloud.conf`:\n",
    "\n",
    "```xml\n",
    "<VirtualHost *:80>\n",
    "    ...\n",
    "    ServerName nextcloud.example.com\n",
    "    ...\n",
    "</VirtualHost>\n",
    "```\n",
    "\n",
    "And add the following configuration to the end of `/etc/httpd/conf/extra/nextcloud.conf`:\n",
    "```xml\n",
    "DirectoryIndex index.php index.html\n",
    "<FilesMatch \\.php$>\n",
    "    SetHandler \"proxy:unix:/run/nextcloud/nextcloud.sock|fcgi://localhost/\"\n",
    "</FilesMatch>\n",
    "```\n",
    "\n",
    "Then edit the main apache config at `/etc/httpd/conf/httpd.conf`:\n",
    "\n",
    "Uncomment the following modules:\n",
    "\n",
    "```xml\n",
    "LoadModule socache_shmcb_module modules/mod_socache_shmcb.so\n",
    "LoadModule proxy_module modules/mod_proxy.so\n",
    "LoadModule proxy_fcgi_module modules/mod_proxy_fcgi.so\n",
    "LoadModule ssl_module modules/mod_ssl.so\n",
    "LoadModule http2_module modules/mod_http2.so\n",
    "LoadModule rewrite_module modules/mod_rewrite.so\n",
    "```\n",
    "\n",
    "And include the nextcloud configuration at the end of the same file:\n",
    "\n",
    "```xml\n",
    "Include conf/extra/nextcloud.conf\n",
    "```"
   ]
  },
  {
   "cell_type": "markdown",
   "metadata": {},
   "source": [
    "## HTTPS config\n",
    "\n",
    "**NOTE: this only works for actual domain names pointing to your IP address, if you hacked the hostname into /etc/hosts, this will not work**\n",
    "\n",
    "Configuring https is easiest with certbot:\n",
    "```bash\n",
    "sudo certbot --apache -d nextcloud.example.com\n",
    "```"
   ]
  },
  {
   "cell_type": "markdown",
   "metadata": {},
   "source": [
    "Answer the questions of the wizard and let certbot modify your apache configuration automatically. If everything went well, the nextcloud apache config at `/etc/httpd/conf/extra/nextcloud.conf` should now have a new section for port 443 (the https port). Add the following recommended [HSTS settings](https://docs.nextcloud.com/server/22/admin_manual/installation/harden_server.html#enable-http-strict-transport-security) to it:\n",
    "\n",
    "```xml\n",
    "<VirtualHost *:443>\n",
    "    ...\n",
    "    <IfModule mod_headers.c>\n",
    "        Header always set Strict-Transport-Security \"max-age=15552000; includeSubDomains\"\n",
    "    </IfModule>\n",
    "</VirtualHost>\n",
    "```\n",
    "\n",
    "\n",
    "Nextcloud should now be correctly installed!"
   ]
  },
  {
   "cell_type": "markdown",
   "metadata": {},
   "source": [
    "## First nextcloud connection\n",
    "Now go to nextcloud.example.com and create an admin user and password and connect to the mariadb nextcloud database. Once this is finished, nextcloud is completely set up!"
   ]
  }
 ],
 "metadata": {
  "kernelspec": {
   "display_name": "Python 3 (ipykernel)",
   "language": "python",
   "name": "python3"
  },
  "language_info": {
   "codemirror_mode": {
    "name": "ipython",
    "version": 3
   },
   "file_extension": ".py",
   "mimetype": "text/x-python",
   "name": "python",
   "nbconvert_exporter": "python",
   "pygments_lexer": "ipython3",
   "version": "3.8.10"
  }
 },
 "nbformat": 4,
 "nbformat_minor": 4
}
